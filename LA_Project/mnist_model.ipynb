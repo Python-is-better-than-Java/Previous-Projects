{
 "cells": [
  {
   "cell_type": "code",
   "execution_count": null,
   "id": "b85c1901",
   "metadata": {
    "vscode": {
     "languageId": "plaintext"
    }
   },
   "outputs": [],
   "source": [
    "import matplotlib.pyplot as plt\n",
    "import tensorflow as tf\n",
    "from sklearn.svm import SVC\n",
    "from sklearn.metrics import confusion_matrix, ConfusionMatrixDisplay\n",
    "from sklearn.metrics import classification_report\n",
    "from sklearn.preprocessing import StandardScaler, MinMaxScaler\n",
    "from sklearn.pipeline import Pipeline\n",
    "from sklearn import metrics\n",
    "from sklearn.model_selection import cross_val_score\n",
    "import cv2\n",
    "import pickle"
   ]
  },
  {
   "cell_type": "code",
   "execution_count": null,
   "id": "b8eb1f2d",
   "metadata": {},
   "outputs": [],
   "source": [
    "(X_train, y_train), (X_test, y_test) = tf.keras.datasets.mnist.load_data()"
   ]
  },
  {
   "cell_type": "code",
   "execution_count": 3,
   "id": "e3949814",
   "metadata": {},
   "outputs": [
    {
     "name": "stdout",
     "output_type": "stream",
     "text": [
      "Shape of training data (60000, 28, 28)\n",
      "Shape of training labels (60000,)\n",
      "Shape of testing data (10000, 28, 28)\n",
      "Shape of testing labels (10000,)\n"
     ]
    }
   ],
   "source": [
    "img_file = open('img_file', 'rb')     \n",
    "db = pickle.load(img_file)\n",
    "print(db)\n",
    "#for i in range(len(db)):\n",
    "    \n",
    "print(\"Shape of training data\", X_train.shape)\n",
    "print(\"Shape of training labels\", y_train.shape)\n",
    "print(\"Shape of testing data\", X_test.shape)\n",
    "print(\"Shape of testing labels\", y_test.shape)"
   ]
  },
  {
   "cell_type": "code",
   "execution_count": 4,
   "id": "1f2af19a",
   "metadata": {},
   "outputs": [
    {
     "data": {
      "image/png": "[encoded data removed]",
      "text/plain": [
       "<Figure size 720x504 with 15 Axes>"
      ]
     },
     "metadata": {
      "needs_background": "light"
     },
     "output_type": "display_data"
    }
   ],
   "source": [
    "fig = plt.figure(figsize = (10,7))\n",
    "for i in range(15):\n",
    "    ax = fig.add_subplot(3,5,i+1)\n",
    "    ax.imshow(X_test[i],cmap = plt.get_cmap('gray'))\n",
    "    ax.set_title('Label (y): {y}'.format(y=y_test[i]))\n",
    "    plt.axis('off')"
   ]
  },
  {
   "cell_type": "code",
   "execution_count": 5,
   "id": "200151fa",
   "metadata": {},
   "outputs": [
    {
     "name": "stdout",
     "output_type": "stream",
     "text": [
      "Shape of training data after flattening:  (60000, 784)\n",
      "Shape of testing data after flattening:  (10000, 784)\n"
     ]
    }
   ],
   "source": [
    "X_train = X_train.reshape(X_train.shape[0], 28*28)\n",
    "X_test = X_test.reshape(X_test.shape[0], 28*28)\n",
    "\n",
    "X_train = X_train/255\n",
    "X_test = X_test/255\n",
    "\n",
    "print(\"Shape of training data after flattening: \", X_train.shape)\n",
    "print(\"Shape of testing data after flattening: \", X_test.shape)"
   ]
  },
  {
   "cell_type": "code",
   "execution_count": 6,
   "id": "8ef7f775",
   "metadata": {},
   "outputs": [
    {
     "name": "stdout",
     "output_type": "stream",
     "text": [
      "Training accuracy: 92.75%\n"
     ]
    }
   ],
   "source": [
    "pipe = Pipeline([('scaler', MinMaxScaler()),(\"classifier\", SVC(kernel = 'linear', C = 1))])\n",
    "pipe.fit(X_train, y_train.ravel())\n",
    "\n",
    "acc = cross_val_score(pipe, X_train, y_train.ravel(), cv=2)\n",
    "print(\"Training accuracy: {:.2f}%\".format(acc.mean()*100))"
   ]
  },
  {
   "cell_type": "code",
   "execution_count": null,
   "id": "41300f11",
   "metadata": {},
   "outputs": [],
   "source": [
    "split = Img_arr()\n",
    "split = split.reshape(split.shape[0], 28*28)\n",
    "split = split/255\n",
    "y_pred = pipe.predict(split)\n",
    "#cm = confusion_matrix(y_test, y_pred)\n",
    "#disp = ConfusionMatrixDisplay(confusion_matrix = cm)\n",
    "#disp.plot()\n",
    "#plt.title('Confusion Matrix')\n",
    "#plt.show()"
   ]
  },
  {
   "cell_type": "code",
   "execution_count": null,
   "id": "7d8b3e41",
   "metadata": {},
   "outputs": [],
   "source": [
    "#CR = classification_report(y_test, y_pred)\n",
    "#print(\"Classification Report \\n\")\n",
    "#print(CR)"
   ]
  },
  {
   "cell_type": "code",
   "execution_count": 9,
   "id": "2c9e8de6",
   "metadata": {},
   "outputs": [
    {
     "name": "stdout",
     "output_type": "stream",
     "text": [
      "3\n",
      "3\n",
      "2\n",
      "2\n",
      "2\n",
      "3\n",
      "3\n",
      "2\n",
      "2\n",
      "2\n",
      "5\n",
      "2\n",
      "3\n",
      "6\n",
      "3\n",
      "3\n",
      "3\n",
      "3\n",
      "3\n",
      "2\n",
      "3\n",
      "3\n",
      "5\n",
      "5\n",
      "7\n",
      "5\n",
      "4\n",
      "4\n",
      "9\n",
      "3\n",
      "3\n",
      "3\n",
      "5\n",
      "2\n",
      "3\n",
      "3\n",
      "2\n",
      "9\n",
      "5\n",
      "6\n",
      "5\n",
      "9\n",
      "3\n",
      "2\n",
      "2\n",
      "3\n",
      "6\n",
      "2\n",
      "3\n",
      "3\n",
      "9\n",
      "2\n",
      "5\n",
      "3\n",
      "9\n",
      "3\n",
      "2\n",
      "2\n",
      "2\n",
      "6\n",
      "3\n",
      "3\n",
      "2\n",
      "2\n",
      "2\n",
      "5\n",
      "2\n",
      "2\n",
      "2\n",
      "2\n",
      "2\n",
      "5\n",
      "3\n",
      "3\n",
      "3\n",
      "5\n",
      "2\n",
      "5\n",
      "3\n",
      "2\n",
      "2\n",
      "2\n",
      "3\n",
      "3\n",
      "5\n",
      "5\n",
      "3\n",
      "5\n",
      "3\n",
      "3\n",
      "3\n",
      "3\n",
      "2\n",
      "2\n",
      "8\n",
      "2\n",
      "3\n",
      "3\n",
      "3\n",
      "5\n",
      "2\n",
      "2\n",
      "5\n",
      "7\n",
      "3\n",
      "3\n",
      "5\n",
      "5\n",
      "7\n",
      "5\n",
      "2\n",
      "5\n",
      "5\n",
      "5\n",
      "5\n",
      "5\n",
      "1\n",
      "4\n",
      "2\n",
      "2\n",
      "2\n",
      "2\n",
      "2\n",
      "3\n",
      "3\n",
      "5\n",
      "2\n",
      "5\n",
      "3\n",
      "6\n",
      "3\n",
      "5\n",
      "2\n",
      "3\n",
      "3\n",
      "7\n",
      "3\n",
      "2\n",
      "2\n",
      "1\n",
      "3\n",
      "5\n",
      "4\n",
      "3\n",
      "5\n",
      "5\n",
      "4\n",
      "3\n",
      "3\n",
      "3\n",
      "2\n",
      "2\n",
      "5\n",
      "5\n"
     ]
    }
   ],
   "source": [
    "for i in range(len(split)):\n",
    "    print(y_pred[i])"
   ]
  },
  {
   "cell_type": "code",
   "execution_count": null,
   "id": "c828d2df",
   "metadata": {},
   "outputs": [],
   "source": []
  }
 ],
 "metadata": {
  "kernelspec": {
   "display_name": "Python 3 (ipykernel)",
   "language": "python",
   "name": "python3"
  },
  "language_info": {
   "codemirror_mode": {
    "name": "ipython",
    "version": 3
   },
   "file_extension": ".py",
   "mimetype": "text/x-python",
   "name": "python",
   "nbconvert_exporter": "python",
   "pygments_lexer": "ipython3",
   "version": "3.10.4"
  }
 },
 "nbformat": 4,
 "nbformat_minor": 5
}
